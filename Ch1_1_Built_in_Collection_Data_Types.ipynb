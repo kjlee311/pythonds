{
  "nbformat": 4,
  "nbformat_minor": 0,
  "metadata": {
    "language_info": {
      "codemirror_mode": {
        "name": "ipython",
        "version": 3
      },
      "file_extension": ".py",
      "mimetype": "text/x-python",
      "name": "python",
      "nbconvert_exporter": "python",
      "pygments_lexer": "ipython3",
      "version": "3.8.5-final"
    },
    "orig_nbformat": 2,
    "kernelspec": {
      "name": "python3",
      "display_name": "Python 3",
      "language": "python"
    },
    "colab": {
      "name": "Copy of Ch1.1 Built-in Collection Data Types.ipynb",
      "provenance": [],
      "include_colab_link": true
    }
  },
  "cells": [
    {
      "cell_type": "markdown",
      "metadata": {
        "id": "view-in-github",
        "colab_type": "text"
      },
      "source": [
        "<a href=\"https://colab.research.google.com/github/kjlee311/pythonds/blob/master/Ch1_1_Built_in_Collection_Data_Types.ipynb\" target=\"_parent\"><img src=\"https://colab.research.google.com/assets/colab-badge.svg\" alt=\"Open In Colab\"/></a>"
      ]
    },
    {
      "cell_type": "code",
      "metadata": {
        "id": "E7Uk_43-ns26",
        "outputId": "8cf00b9e-27bc-4c5c-a105-243cbbea0bd3"
      },
      "source": [
        "print(\"Algorithms and Data Structures\")"
      ],
      "execution_count": null,
      "outputs": [
        {
          "output_type": "stream",
          "text": [
            "Algorithms and Data Structures\n"
          ],
          "name": "stdout"
        }
      ]
    },
    {
      "cell_type": "code",
      "metadata": {
        "id": "d0rfeFd-ns28",
        "outputId": "e9d585d2-245a-4ce9-9c4f-83613657e455"
      },
      "source": [
        "2+3*4"
      ],
      "execution_count": null,
      "outputs": [
        {
          "output_type": "execute_result",
          "data": {
            "text/plain": [
              "14"
            ]
          },
          "metadata": {
            "tags": []
          },
          "execution_count": 2
        }
      ]
    },
    {
      "cell_type": "code",
      "metadata": {
        "id": "ulKsazgbns29",
        "outputId": "15ff1c5e-b06c-4743-c0b1-d84b1589386c"
      },
      "source": [
        "(2+3)*4"
      ],
      "execution_count": null,
      "outputs": [
        {
          "output_type": "execute_result",
          "data": {
            "text/plain": [
              "20"
            ]
          },
          "metadata": {
            "tags": []
          },
          "execution_count": 3
        }
      ]
    },
    {
      "cell_type": "code",
      "metadata": {
        "id": "4ei7w-Vpns29",
        "outputId": "3ecb55f7-a7d9-49db-99e4-43f57fad2ee6"
      },
      "source": [
        "2**10"
      ],
      "execution_count": null,
      "outputs": [
        {
          "output_type": "execute_result",
          "data": {
            "text/plain": [
              "1024"
            ]
          },
          "metadata": {
            "tags": []
          },
          "execution_count": 4
        }
      ]
    },
    {
      "cell_type": "code",
      "metadata": {
        "id": "y4reb8HSns29",
        "outputId": "45717771-d64f-48f8-fcf9-c7d0636a8918"
      },
      "source": [
        "6/3"
      ],
      "execution_count": null,
      "outputs": [
        {
          "output_type": "execute_result",
          "data": {
            "text/plain": [
              "2.0"
            ]
          },
          "metadata": {
            "tags": []
          },
          "execution_count": 5
        }
      ]
    },
    {
      "cell_type": "code",
      "metadata": {
        "id": "-N5nyi8fns2-",
        "outputId": "b417e186-1b4c-4d4b-bc58-02aa8d72e509"
      },
      "source": [
        "7/3"
      ],
      "execution_count": null,
      "outputs": [
        {
          "output_type": "execute_result",
          "data": {
            "text/plain": [
              "2.3333333333333335"
            ]
          },
          "metadata": {
            "tags": []
          },
          "execution_count": 6
        }
      ]
    },
    {
      "cell_type": "code",
      "metadata": {
        "id": "lmrVfDBxns2-",
        "outputId": "156d98e3-f8b4-46e3-990b-15db9bf21c07"
      },
      "source": [
        "7//3"
      ],
      "execution_count": null,
      "outputs": [
        {
          "output_type": "execute_result",
          "data": {
            "text/plain": [
              "2"
            ]
          },
          "metadata": {
            "tags": []
          },
          "execution_count": 7
        }
      ]
    },
    {
      "cell_type": "code",
      "metadata": {
        "id": "on91grOMns2-",
        "outputId": "e8dbd3e2-a311-4560-b7ff-8549b42b161c"
      },
      "source": [
        "7%3"
      ],
      "execution_count": null,
      "outputs": [
        {
          "output_type": "execute_result",
          "data": {
            "text/plain": [
              "1"
            ]
          },
          "metadata": {
            "tags": []
          },
          "execution_count": 8
        }
      ]
    },
    {
      "cell_type": "code",
      "metadata": {
        "id": "f424_LGPns2_",
        "outputId": "1c59ebfa-6089-4d38-9288-780778a8dbd4"
      },
      "source": [
        "3/6"
      ],
      "execution_count": null,
      "outputs": [
        {
          "output_type": "execute_result",
          "data": {
            "text/plain": [
              "0.5"
            ]
          },
          "metadata": {
            "tags": []
          },
          "execution_count": 9
        }
      ]
    },
    {
      "cell_type": "code",
      "metadata": {
        "id": "mUtL3Xl4ns2_",
        "outputId": "d33f8ab8-3299-46e5-e330-7d7a980e69ce"
      },
      "source": [
        "3//6"
      ],
      "execution_count": null,
      "outputs": [
        {
          "output_type": "execute_result",
          "data": {
            "text/plain": [
              "0"
            ]
          },
          "metadata": {
            "tags": []
          },
          "execution_count": 10
        }
      ]
    },
    {
      "cell_type": "code",
      "metadata": {
        "id": "cMan0V4Cns2_",
        "outputId": "a5af38d2-9047-4c6f-b600-5b387602b76b"
      },
      "source": [
        "3%6"
      ],
      "execution_count": null,
      "outputs": [
        {
          "output_type": "execute_result",
          "data": {
            "text/plain": [
              "3"
            ]
          },
          "metadata": {
            "tags": []
          },
          "execution_count": 11
        }
      ]
    },
    {
      "cell_type": "code",
      "metadata": {
        "id": "no80sdrlns2_",
        "outputId": "e025b29d-97bb-4cb1-caca-06afef072c2c"
      },
      "source": [
        "2**100"
      ],
      "execution_count": null,
      "outputs": [
        {
          "output_type": "execute_result",
          "data": {
            "text/plain": [
              "1267650600228229401496703205376"
            ]
          },
          "metadata": {
            "tags": []
          },
          "execution_count": 16
        }
      ]
    },
    {
      "cell_type": "code",
      "metadata": {
        "id": "LQs_eYIJns3A",
        "outputId": "855315a9-bb8e-4a98-82e5-27b7890e6cae"
      },
      "source": [
        "True"
      ],
      "execution_count": null,
      "outputs": [
        {
          "output_type": "execute_result",
          "data": {
            "text/plain": [
              "True"
            ]
          },
          "metadata": {
            "tags": []
          },
          "execution_count": 17
        }
      ]
    },
    {
      "cell_type": "code",
      "metadata": {
        "id": "wGb-hHgGns3A",
        "outputId": "8200b3a7-50b7-4f05-c046-d4ddbaf2ca85"
      },
      "source": [
        "False"
      ],
      "execution_count": null,
      "outputs": [
        {
          "output_type": "execute_result",
          "data": {
            "text/plain": [
              "False"
            ]
          },
          "metadata": {
            "tags": []
          },
          "execution_count": 18
        }
      ]
    },
    {
      "cell_type": "code",
      "metadata": {
        "id": "Cu5770t8ns3A",
        "outputId": "e46c657b-dc92-434b-9001-f0c4e114c5a5"
      },
      "source": [
        "False or True"
      ],
      "execution_count": null,
      "outputs": [
        {
          "output_type": "execute_result",
          "data": {
            "text/plain": [
              "True"
            ]
          },
          "metadata": {
            "tags": []
          },
          "execution_count": 19
        }
      ]
    },
    {
      "cell_type": "code",
      "metadata": {
        "id": "kLMDrYPUns3A",
        "outputId": "83ea0991-494b-4866-e881-01182fb7bfdc"
      },
      "source": [
        "not (False or True)"
      ],
      "execution_count": null,
      "outputs": [
        {
          "output_type": "execute_result",
          "data": {
            "text/plain": [
              "False"
            ]
          },
          "metadata": {
            "tags": []
          },
          "execution_count": 21
        }
      ]
    },
    {
      "cell_type": "code",
      "metadata": {
        "id": "mdTapt3Bns3B",
        "outputId": "23d892ef-df55-4525-a64a-d37146d2c1c7"
      },
      "source": [
        "True and True"
      ],
      "execution_count": null,
      "outputs": [
        {
          "output_type": "execute_result",
          "data": {
            "text/plain": [
              "True"
            ]
          },
          "metadata": {
            "tags": []
          },
          "execution_count": 22
        }
      ]
    },
    {
      "cell_type": "code",
      "metadata": {
        "id": "B5s9ZQw3ns3B",
        "outputId": "d30b98af-ff2d-468b-c010-ad306c7b229b"
      },
      "source": [
        "5 == 10"
      ],
      "execution_count": null,
      "outputs": [
        {
          "output_type": "execute_result",
          "data": {
            "text/plain": [
              "False"
            ]
          },
          "metadata": {
            "tags": []
          },
          "execution_count": 23
        }
      ]
    },
    {
      "cell_type": "code",
      "metadata": {
        "id": "1xs3GME3ns3B",
        "outputId": "81a41e42-acec-40c0-b511-facf88e15bb9"
      },
      "source": [
        "10 > 5"
      ],
      "execution_count": null,
      "outputs": [
        {
          "output_type": "execute_result",
          "data": {
            "text/plain": [
              "True"
            ]
          },
          "metadata": {
            "tags": []
          },
          "execution_count": 24
        }
      ]
    },
    {
      "cell_type": "code",
      "metadata": {
        "id": "1RoZGQLfns3C",
        "outputId": "b1861b9c-3740-4f66-a0d6-2d8fa9a9b80c"
      },
      "source": [
        "(5 >= 1) and (5 <= 10)"
      ],
      "execution_count": null,
      "outputs": [
        {
          "output_type": "execute_result",
          "data": {
            "text/plain": [
              "True"
            ]
          },
          "metadata": {
            "tags": []
          },
          "execution_count": 25
        }
      ]
    },
    {
      "cell_type": "code",
      "metadata": {
        "id": "L_KjMCRqns3C",
        "outputId": "731e5356-a45c-4ce8-b04b-c60a42e08dbc"
      },
      "source": [
        "theSum = 0\n",
        "theSum"
      ],
      "execution_count": null,
      "outputs": [
        {
          "output_type": "execute_result",
          "data": {
            "text/plain": [
              "0"
            ]
          },
          "metadata": {
            "tags": []
          },
          "execution_count": 26
        }
      ]
    },
    {
      "cell_type": "code",
      "metadata": {
        "id": "cBt80ulFns3C",
        "outputId": "5663e09c-f70f-4669-a00b-39a29c18f632"
      },
      "source": [
        "theSum += 1\n",
        "theSum"
      ],
      "execution_count": null,
      "outputs": [
        {
          "output_type": "execute_result",
          "data": {
            "text/plain": [
              "1"
            ]
          },
          "metadata": {
            "tags": []
          },
          "execution_count": 27
        }
      ]
    },
    {
      "cell_type": "code",
      "metadata": {
        "id": "0bDaSP8kns3C",
        "outputId": "dceb3df3-da10-40f3-c761-11c7b37b5c0a"
      },
      "source": [
        "theSum = True\n",
        "theSum"
      ],
      "execution_count": null,
      "outputs": [
        {
          "output_type": "execute_result",
          "data": {
            "text/plain": [
              "True"
            ]
          },
          "metadata": {
            "tags": []
          },
          "execution_count": 28
        }
      ]
    },
    {
      "cell_type": "code",
      "metadata": {
        "id": "g_naEWcGns3C",
        "outputId": "ebd14288-0b68-4a61-b3c0-2e2f79f881c6"
      },
      "source": [
        "[1, 3, True, 6, 5]"
      ],
      "execution_count": null,
      "outputs": [
        {
          "output_type": "execute_result",
          "data": {
            "text/plain": [
              "[1, 3, True, 6, 5]"
            ]
          },
          "metadata": {
            "tags": []
          },
          "execution_count": 29
        }
      ]
    },
    {
      "cell_type": "code",
      "metadata": {
        "id": "y8FRGjIVns3D",
        "outputId": "271b63f2-6a1d-49af-fae2-948f36b3fda5"
      },
      "source": [
        "myList = [1, 3, True, 6, 5]\n",
        "myList"
      ],
      "execution_count": null,
      "outputs": [
        {
          "output_type": "execute_result",
          "data": {
            "text/plain": [
              "[1, 3, True, 6, 5]"
            ]
          },
          "metadata": {
            "tags": []
          },
          "execution_count": 30
        }
      ]
    },
    {
      "cell_type": "code",
      "metadata": {
        "id": "-RxmUx5Gns3D",
        "outputId": "7cbc9cba-a0cf-4774-af04-18b45167f1be"
      },
      "source": [
        "myList = [0] * 6\n",
        "myList"
      ],
      "execution_count": null,
      "outputs": [
        {
          "output_type": "execute_result",
          "data": {
            "text/plain": [
              "[0, 0, 0, 0, 0, 0]"
            ]
          },
          "metadata": {
            "tags": []
          },
          "execution_count": 32
        }
      ]
    },
    {
      "cell_type": "code",
      "metadata": {
        "id": "GE7iLSK8ns3D",
        "outputId": "19e1211d-eebb-4e48-c697-506de3f8416a"
      },
      "source": [
        "myList = [1, 2, 3, 4]\n",
        "A = [myList] * 3\n",
        "A"
      ],
      "execution_count": null,
      "outputs": [
        {
          "output_type": "execute_result",
          "data": {
            "text/plain": [
              "[[1, 2, 3, 4], [1, 2, 3, 4], [1, 2, 3, 4]]"
            ]
          },
          "metadata": {
            "tags": []
          },
          "execution_count": 33
        }
      ]
    },
    {
      "cell_type": "code",
      "metadata": {
        "id": "TgEkoqQ0ns3D",
        "outputId": "39b9d24e-e9bd-4df2-c927-7950ed883a20"
      },
      "source": [
        "myList[2] = 45\n",
        "A"
      ],
      "execution_count": null,
      "outputs": [
        {
          "output_type": "execute_result",
          "data": {
            "text/plain": [
              "[[1, 2, 45, 4], [1, 2, 45, 4], [1, 2, 45, 4]]"
            ]
          },
          "metadata": {
            "tags": []
          },
          "execution_count": 34
        }
      ]
    },
    {
      "cell_type": "code",
      "metadata": {
        "id": "41Md69z8ns3D",
        "outputId": "9d4d3c0b-68c7-4f0e-b825-dc2fb65c8633"
      },
      "source": [
        "myList = [1024, 3, True, 6.5]\n",
        "myList.append(False)\n",
        "myList"
      ],
      "execution_count": null,
      "outputs": [
        {
          "output_type": "execute_result",
          "data": {
            "text/plain": [
              "[1024, 3, True, 6.5, False]"
            ]
          },
          "metadata": {
            "tags": []
          },
          "execution_count": 35
        }
      ]
    },
    {
      "cell_type": "code",
      "metadata": {
        "id": "DwuS_Ynyns3E",
        "outputId": "d0157fae-811e-4d02-8ed2-3b62a32cc926"
      },
      "source": [
        "myList.insert(2, 4.5)\n",
        "myList"
      ],
      "execution_count": null,
      "outputs": [
        {
          "output_type": "execute_result",
          "data": {
            "text/plain": [
              "[1024, 3, 4.5, True, 6.5, False]"
            ]
          },
          "metadata": {
            "tags": []
          },
          "execution_count": 36
        }
      ]
    },
    {
      "cell_type": "code",
      "metadata": {
        "id": "hIEaXxw-ns3E",
        "outputId": "47d8a285-67e2-49a7-b866-ee8d26f52ddb"
      },
      "source": [
        "myList.pop()"
      ],
      "execution_count": null,
      "outputs": [
        {
          "output_type": "execute_result",
          "data": {
            "text/plain": [
              "False"
            ]
          },
          "metadata": {
            "tags": []
          },
          "execution_count": 37
        }
      ]
    },
    {
      "cell_type": "code",
      "metadata": {
        "id": "JIQf09bwns3E",
        "outputId": "412a4268-f77b-4c69-baf6-6f48009e8a9e"
      },
      "source": [
        "myList"
      ],
      "execution_count": null,
      "outputs": [
        {
          "output_type": "execute_result",
          "data": {
            "text/plain": [
              "[1024, 3, 4.5, True, 6.5]"
            ]
          },
          "metadata": {
            "tags": []
          },
          "execution_count": 38
        }
      ]
    },
    {
      "cell_type": "code",
      "metadata": {
        "id": "M_040Atwns3E",
        "outputId": "c08f3035-777e-4536-9d46-deca36abbb1c"
      },
      "source": [
        "myList.pop(1)"
      ],
      "execution_count": null,
      "outputs": [
        {
          "output_type": "execute_result",
          "data": {
            "text/plain": [
              "3"
            ]
          },
          "metadata": {
            "tags": []
          },
          "execution_count": 39
        }
      ]
    },
    {
      "cell_type": "code",
      "metadata": {
        "id": "AawXzqEyns3E",
        "outputId": "c83928e5-16f8-4cb7-e7f8-8095ff9eb4f0"
      },
      "source": [
        "myList"
      ],
      "execution_count": null,
      "outputs": [
        {
          "output_type": "execute_result",
          "data": {
            "text/plain": [
              "[1024, 4.5, True, 6.5]"
            ]
          },
          "metadata": {
            "tags": []
          },
          "execution_count": 40
        }
      ]
    },
    {
      "cell_type": "code",
      "metadata": {
        "id": "OCy39_idns3F",
        "outputId": "cfb3bc53-4d5c-42ec-c30f-ee3547bb252a"
      },
      "source": [
        "myList.pop(2)"
      ],
      "execution_count": null,
      "outputs": [
        {
          "output_type": "execute_result",
          "data": {
            "text/plain": [
              "True"
            ]
          },
          "metadata": {
            "tags": []
          },
          "execution_count": 41
        }
      ]
    },
    {
      "cell_type": "code",
      "metadata": {
        "id": "Fuw9LAzLns3F",
        "outputId": "436c5600-3195-4fb9-e297-67f47dbe1801"
      },
      "source": [
        "myList"
      ],
      "execution_count": null,
      "outputs": [
        {
          "output_type": "execute_result",
          "data": {
            "text/plain": [
              "[1024, 4.5, 6.5]"
            ]
          },
          "metadata": {
            "tags": []
          },
          "execution_count": 42
        }
      ]
    },
    {
      "cell_type": "code",
      "metadata": {
        "id": "-9Rv7mM3ns3F"
      },
      "source": [
        "myList.sort()"
      ],
      "execution_count": null,
      "outputs": []
    },
    {
      "cell_type": "code",
      "metadata": {
        "id": "ICsREAyans3F",
        "outputId": "928fafdb-9858-49bf-a6f8-1895eabed8bf"
      },
      "source": [
        "myList"
      ],
      "execution_count": null,
      "outputs": [
        {
          "output_type": "execute_result",
          "data": {
            "text/plain": [
              "[4.5, 6.5, 1024]"
            ]
          },
          "metadata": {
            "tags": []
          },
          "execution_count": 44
        }
      ]
    },
    {
      "cell_type": "code",
      "metadata": {
        "id": "DCY17co2ns3G"
      },
      "source": [
        "myList.reverse()"
      ],
      "execution_count": null,
      "outputs": []
    },
    {
      "cell_type": "code",
      "metadata": {
        "id": "bGskJNxsns3G",
        "outputId": "a4b8f5b5-c391-4830-c42a-f0c1ed8ef6ef"
      },
      "source": [
        "myList"
      ],
      "execution_count": null,
      "outputs": [
        {
          "output_type": "execute_result",
          "data": {
            "text/plain": [
              "[1024, 6.5, 4.5]"
            ]
          },
          "metadata": {
            "tags": []
          },
          "execution_count": 48
        }
      ]
    },
    {
      "cell_type": "code",
      "metadata": {
        "id": "rLq1cdF1ns3G",
        "outputId": "eebf4de7-f2fc-4f88-cd05-bd8f088bf3b2"
      },
      "source": [
        "myList.count(6.5)"
      ],
      "execution_count": null,
      "outputs": [
        {
          "output_type": "execute_result",
          "data": {
            "text/plain": [
              "1"
            ]
          },
          "metadata": {
            "tags": []
          },
          "execution_count": 49
        }
      ]
    },
    {
      "cell_type": "code",
      "metadata": {
        "id": "irIY4TG_ns3G"
      },
      "source": [
        "myList.remove(6.5)"
      ],
      "execution_count": null,
      "outputs": []
    },
    {
      "cell_type": "code",
      "metadata": {
        "id": "dQHDUEJmns3H",
        "outputId": "414b06a5-c83e-414c-b681-89fd8cf52230"
      },
      "source": [
        "myList"
      ],
      "execution_count": null,
      "outputs": [
        {
          "output_type": "execute_result",
          "data": {
            "text/plain": [
              "[1024, 4.5]"
            ]
          },
          "metadata": {
            "tags": []
          },
          "execution_count": 51
        }
      ]
    },
    {
      "cell_type": "code",
      "metadata": {
        "id": "VCX0Mduuns3H"
      },
      "source": [
        "del myList[0]"
      ],
      "execution_count": null,
      "outputs": []
    },
    {
      "cell_type": "code",
      "metadata": {
        "id": "CBU8bue6ns3H",
        "outputId": "268c4fef-7b4d-4918-f531-f6eaf36cb57e"
      },
      "source": [
        "myList"
      ],
      "execution_count": null,
      "outputs": [
        {
          "output_type": "execute_result",
          "data": {
            "text/plain": [
              "[4.5]"
            ]
          },
          "metadata": {
            "tags": []
          },
          "execution_count": 53
        }
      ]
    },
    {
      "cell_type": "code",
      "metadata": {
        "id": "N_G4Ur8ons3H",
        "outputId": "a740cf78-8824-4870-caf3-ff3e8801dc3c"
      },
      "source": [
        "(54).__add__(21)"
      ],
      "execution_count": null,
      "outputs": [
        {
          "output_type": "execute_result",
          "data": {
            "text/plain": [
              "75"
            ]
          },
          "metadata": {
            "tags": []
          },
          "execution_count": 54
        }
      ]
    },
    {
      "cell_type": "code",
      "metadata": {
        "id": "6m5Ee2hXns3H",
        "outputId": "f292e093-a668-4fae-a816-bb386532f354"
      },
      "source": [
        "range(10)"
      ],
      "execution_count": null,
      "outputs": [
        {
          "output_type": "execute_result",
          "data": {
            "text/plain": [
              "range(0, 10)"
            ]
          },
          "metadata": {
            "tags": []
          },
          "execution_count": 55
        }
      ]
    },
    {
      "cell_type": "code",
      "metadata": {
        "id": "rnhW6yqins3H",
        "outputId": "14b32bf9-4a38-4eef-cd95-e3b07793c6ed"
      },
      "source": [
        "list(range(10))"
      ],
      "execution_count": null,
      "outputs": [
        {
          "output_type": "execute_result",
          "data": {
            "text/plain": [
              "[0, 1, 2, 3, 4, 5, 6, 7, 8, 9]"
            ]
          },
          "metadata": {
            "tags": []
          },
          "execution_count": 56
        }
      ]
    },
    {
      "cell_type": "code",
      "metadata": {
        "id": "T_RFkvwZns3I",
        "outputId": "394fc9a2-3c25-4815-ccd3-75ffe65b5ae7"
      },
      "source": [
        "range(5,10)"
      ],
      "execution_count": null,
      "outputs": [
        {
          "output_type": "execute_result",
          "data": {
            "text/plain": [
              "range(5, 10)"
            ]
          },
          "metadata": {
            "tags": []
          },
          "execution_count": 57
        }
      ]
    },
    {
      "cell_type": "code",
      "metadata": {
        "id": "hYmGB9ryns3I",
        "outputId": "b6c5d993-33c8-4cbf-caa9-2dff335bf84f"
      },
      "source": [
        "list(range(5, 10))"
      ],
      "execution_count": null,
      "outputs": [
        {
          "output_type": "execute_result",
          "data": {
            "text/plain": [
              "[5, 6, 7, 8, 9]"
            ]
          },
          "metadata": {
            "tags": []
          },
          "execution_count": 58
        }
      ]
    },
    {
      "cell_type": "code",
      "metadata": {
        "id": "nZTdCzxdns3I",
        "outputId": "5ca5b333-b47a-4370-bdf2-27e973c60f9b"
      },
      "source": [
        "list(range(5, 10, 2))"
      ],
      "execution_count": null,
      "outputs": [
        {
          "output_type": "execute_result",
          "data": {
            "text/plain": [
              "[5, 7, 9]"
            ]
          },
          "metadata": {
            "tags": []
          },
          "execution_count": 59
        }
      ]
    },
    {
      "cell_type": "code",
      "metadata": {
        "id": "xL_1KwG1ns3I",
        "outputId": "a94fbcd5-c681-4e9f-f525-e4b851a919d1"
      },
      "source": [
        "list(range(10, 1, -1))"
      ],
      "execution_count": null,
      "outputs": [
        {
          "output_type": "execute_result",
          "data": {
            "text/plain": [
              "[10, 9, 8, 7, 6, 5, 4, 3, 2]"
            ]
          },
          "metadata": {
            "tags": []
          },
          "execution_count": 60
        }
      ]
    },
    {
      "cell_type": "code",
      "metadata": {
        "id": "MVFRHOH7ns3I",
        "outputId": "b981dd2c-72d1-4ab5-f82e-a0f36fee25b6"
      },
      "source": [
        "\"David\""
      ],
      "execution_count": null,
      "outputs": [
        {
          "output_type": "execute_result",
          "data": {
            "text/plain": [
              "'David'"
            ]
          },
          "metadata": {
            "tags": []
          },
          "execution_count": 61
        }
      ]
    },
    {
      "cell_type": "code",
      "metadata": {
        "id": "GdsYzA34ns3J",
        "outputId": "d1bc9a36-f135-40df-8b95-06d51788c674"
      },
      "source": [
        "myName = \"David\"\n",
        "myName[3]"
      ],
      "execution_count": null,
      "outputs": [
        {
          "output_type": "execute_result",
          "data": {
            "text/plain": [
              "'i'"
            ]
          },
          "metadata": {
            "tags": []
          },
          "execution_count": 62
        }
      ]
    },
    {
      "cell_type": "code",
      "metadata": {
        "id": "61LCW25Cns3J",
        "outputId": "77153343-3be7-40e6-f51a-53d50bc19880"
      },
      "source": [
        "myName*2"
      ],
      "execution_count": null,
      "outputs": [
        {
          "output_type": "execute_result",
          "data": {
            "text/plain": [
              "'DavidDavid'"
            ]
          },
          "metadata": {
            "tags": []
          },
          "execution_count": 63
        }
      ]
    },
    {
      "cell_type": "code",
      "metadata": {
        "id": "JlxA9z_Ins3J",
        "outputId": "00fcd156-878a-4039-d765-f9441b939a81"
      },
      "source": [
        "len(myName)"
      ],
      "execution_count": null,
      "outputs": [
        {
          "output_type": "execute_result",
          "data": {
            "text/plain": [
              "5"
            ]
          },
          "metadata": {
            "tags": []
          },
          "execution_count": 64
        }
      ]
    },
    {
      "cell_type": "code",
      "metadata": {
        "id": "2njGWOqAns3J",
        "outputId": "42fa103d-8d8d-4749-becb-b90437341e08"
      },
      "source": [
        "myName.upper()"
      ],
      "execution_count": null,
      "outputs": [
        {
          "output_type": "execute_result",
          "data": {
            "text/plain": [
              "'DAVID'"
            ]
          },
          "metadata": {
            "tags": []
          },
          "execution_count": 65
        }
      ]
    },
    {
      "cell_type": "code",
      "metadata": {
        "id": "t8GDumODns3J",
        "outputId": "bbdc409f-e09b-4f69-eea8-9bf86db8846f"
      },
      "source": [
        "myName.lower()"
      ],
      "execution_count": null,
      "outputs": [
        {
          "output_type": "execute_result",
          "data": {
            "text/plain": [
              "'david'"
            ]
          },
          "metadata": {
            "tags": []
          },
          "execution_count": 66
        }
      ]
    },
    {
      "cell_type": "code",
      "metadata": {
        "id": "djJjuVb6ns3J",
        "outputId": "8b713bfa-2ae9-4041-9d7d-79c34baaf707"
      },
      "source": [
        "myName.center(10)"
      ],
      "execution_count": null,
      "outputs": [
        {
          "output_type": "execute_result",
          "data": {
            "text/plain": [
              "'  David   '"
            ]
          },
          "metadata": {
            "tags": []
          },
          "execution_count": 67
        }
      ]
    },
    {
      "cell_type": "code",
      "metadata": {
        "id": "wgFc0ub8ns3K",
        "outputId": "0810fdfc-520d-408c-9cef-3d8425c81f62"
      },
      "source": [
        "myName.ljust(10)"
      ],
      "execution_count": null,
      "outputs": [
        {
          "output_type": "execute_result",
          "data": {
            "text/plain": [
              "'David     '"
            ]
          },
          "metadata": {
            "tags": []
          },
          "execution_count": 68
        }
      ]
    },
    {
      "cell_type": "code",
      "metadata": {
        "id": "cJgBujNhns3K",
        "outputId": "efd1a763-9a2e-4747-f706-810226353c63"
      },
      "source": [
        "myName.rjust(10)"
      ],
      "execution_count": null,
      "outputs": [
        {
          "output_type": "execute_result",
          "data": {
            "text/plain": [
              "'     David'"
            ]
          },
          "metadata": {
            "tags": []
          },
          "execution_count": 69
        }
      ]
    },
    {
      "cell_type": "code",
      "metadata": {
        "id": "u1XI_JB7ns3K",
        "outputId": "0123dd10-e22d-488f-b4cd-b20e4ae667b5"
      },
      "source": [
        "myName.find('v')"
      ],
      "execution_count": null,
      "outputs": [
        {
          "output_type": "execute_result",
          "data": {
            "text/plain": [
              "2"
            ]
          },
          "metadata": {
            "tags": []
          },
          "execution_count": 70
        }
      ]
    },
    {
      "cell_type": "code",
      "metadata": {
        "id": "BdbJVlcgns3K",
        "outputId": "d4356039-11e7-46f2-b0bf-091be8603fbb"
      },
      "source": [
        "myName.count('a')"
      ],
      "execution_count": null,
      "outputs": [
        {
          "output_type": "execute_result",
          "data": {
            "text/plain": [
              "1"
            ]
          },
          "metadata": {
            "tags": []
          },
          "execution_count": 71
        }
      ]
    },
    {
      "cell_type": "code",
      "metadata": {
        "id": "DVgpJenvns3K",
        "outputId": "bee70060-9a69-4476-9609-d8960e87c124"
      },
      "source": [
        "myName.split('v')"
      ],
      "execution_count": null,
      "outputs": [
        {
          "output_type": "execute_result",
          "data": {
            "text/plain": [
              "['Da', 'id']"
            ]
          },
          "metadata": {
            "tags": []
          },
          "execution_count": 72
        }
      ]
    },
    {
      "cell_type": "code",
      "metadata": {
        "id": "g_WCW1dons3L",
        "outputId": "0c9711ed-e425-4d01-98a5-95208d9254ce"
      },
      "source": [
        "myList"
      ],
      "execution_count": null,
      "outputs": [
        {
          "output_type": "execute_result",
          "data": {
            "text/plain": [
              "[4.5]"
            ]
          },
          "metadata": {
            "tags": []
          },
          "execution_count": 73
        }
      ]
    },
    {
      "cell_type": "code",
      "metadata": {
        "id": "N1z8IfsMns3L"
      },
      "source": [
        "myList[0] = 2**10"
      ],
      "execution_count": null,
      "outputs": []
    },
    {
      "cell_type": "code",
      "metadata": {
        "id": "WcfWbppdns3L",
        "outputId": "44b14637-2114-46fe-cd4f-f014f1bf63c4"
      },
      "source": [
        "myList"
      ],
      "execution_count": null,
      "outputs": [
        {
          "output_type": "execute_result",
          "data": {
            "text/plain": [
              "[1024]"
            ]
          },
          "metadata": {
            "tags": []
          },
          "execution_count": 75
        }
      ]
    },
    {
      "cell_type": "code",
      "metadata": {
        "id": "JTdG7btins3L",
        "outputId": "c9fe59c7-b1f1-4974-8eba-e782a47634f3"
      },
      "source": [
        "myName"
      ],
      "execution_count": null,
      "outputs": [
        {
          "output_type": "execute_result",
          "data": {
            "text/plain": [
              "'David'"
            ]
          },
          "metadata": {
            "tags": []
          },
          "execution_count": 77
        }
      ]
    },
    {
      "cell_type": "code",
      "metadata": {
        "id": "2eG9cVpLns3L",
        "outputId": "377646b5-1311-447b-c7d0-4f44055ca98d"
      },
      "source": [
        "myName[0] = 'X'"
      ],
      "execution_count": null,
      "outputs": [
        {
          "output_type": "error",
          "ename": "TypeError",
          "evalue": "'str' object does not support item assignment",
          "traceback": [
            "\u001b[1;31m---------------------------------------------------------------------------\u001b[0m",
            "\u001b[1;31mTypeError\u001b[0m                                 Traceback (most recent call last)",
            "\u001b[1;32m<ipython-input-78-81c796759123>\u001b[0m in \u001b[0;36m<module>\u001b[1;34m\u001b[0m\n\u001b[1;32m----> 1\u001b[1;33m \u001b[0mmyName\u001b[0m\u001b[1;33m[\u001b[0m\u001b[1;36m0\u001b[0m\u001b[1;33m]\u001b[0m \u001b[1;33m=\u001b[0m \u001b[1;34m'X'\u001b[0m\u001b[1;33m\u001b[0m\u001b[1;33m\u001b[0m\u001b[0m\n\u001b[0m",
            "\u001b[1;31mTypeError\u001b[0m: 'str' object does not support item assignment"
          ]
        }
      ]
    },
    {
      "cell_type": "code",
      "metadata": {
        "id": "9DLs98ezns3L",
        "outputId": "a82f3979-4bba-4138-90a8-5b41ac1af664"
      },
      "source": [
        "myTuple = (2, True, 4, 96)\n",
        "myTuple"
      ],
      "execution_count": null,
      "outputs": [
        {
          "output_type": "execute_result",
          "data": {
            "text/plain": [
              "(2, True, 4, 96)"
            ]
          },
          "metadata": {
            "tags": []
          },
          "execution_count": 84
        }
      ]
    },
    {
      "cell_type": "code",
      "metadata": {
        "id": "IhjmUcvKns3M",
        "outputId": "9341b304-139f-423e-e747-1587493bc0cf"
      },
      "source": [
        "len(myTuple)"
      ],
      "execution_count": null,
      "outputs": [
        {
          "output_type": "execute_result",
          "data": {
            "text/plain": [
              "4"
            ]
          },
          "metadata": {
            "tags": []
          },
          "execution_count": 85
        }
      ]
    },
    {
      "cell_type": "code",
      "metadata": {
        "id": "YJd-xTZJns3M",
        "outputId": "c028168e-25bf-4f61-d6ad-098ae6e677cf"
      },
      "source": [
        "myTuple[0]"
      ],
      "execution_count": null,
      "outputs": [
        {
          "output_type": "execute_result",
          "data": {
            "text/plain": [
              "2"
            ]
          },
          "metadata": {
            "tags": []
          },
          "execution_count": 86
        }
      ]
    },
    {
      "cell_type": "code",
      "metadata": {
        "id": "npyt76zGns3M",
        "outputId": "1e7d154b-0675-43ad-d010-57331bade2c5"
      },
      "source": [
        "myTuple*3"
      ],
      "execution_count": null,
      "outputs": [
        {
          "output_type": "execute_result",
          "data": {
            "text/plain": [
              "(2, True, 4, 96, 2, True, 4, 96, 2, True, 4, 96)"
            ]
          },
          "metadata": {
            "tags": []
          },
          "execution_count": 87
        }
      ]
    },
    {
      "cell_type": "code",
      "metadata": {
        "id": "PQ8MDu8bns3M",
        "outputId": "55f976a0-a654-4f3c-f876-8b240ea70c63"
      },
      "source": [
        "myTuple[0:2]"
      ],
      "execution_count": null,
      "outputs": [
        {
          "output_type": "execute_result",
          "data": {
            "text/plain": [
              "(2, True)"
            ]
          },
          "metadata": {
            "tags": []
          },
          "execution_count": 88
        }
      ]
    },
    {
      "cell_type": "code",
      "metadata": {
        "id": "wFXOHTB4ns3M",
        "outputId": "0f4853de-e2b3-420d-ed25-15fd6caa893c"
      },
      "source": [
        "{3, 6, \"cat\", 4.5, False}"
      ],
      "execution_count": null,
      "outputs": [
        {
          "output_type": "execute_result",
          "data": {
            "text/plain": [
              "{3, 4.5, 6, False, 'cat'}"
            ]
          },
          "metadata": {
            "tags": []
          },
          "execution_count": 89
        }
      ]
    },
    {
      "cell_type": "code",
      "metadata": {
        "id": "M9evmQ27ns3N"
      },
      "source": [
        "mySet = {3, 6, \"cat\", 4.5, False}"
      ],
      "execution_count": null,
      "outputs": []
    },
    {
      "cell_type": "code",
      "metadata": {
        "id": "F8tsPBlYns3N",
        "outputId": "e43262f0-e26b-4fa8-f5bf-d1fbbbc8d01e"
      },
      "source": [
        "mySet"
      ],
      "execution_count": null,
      "outputs": [
        {
          "output_type": "execute_result",
          "data": {
            "text/plain": [
              "{3, 4.5, 6, False, 'cat'}"
            ]
          },
          "metadata": {
            "tags": []
          },
          "execution_count": 91
        }
      ]
    },
    {
      "cell_type": "code",
      "metadata": {
        "id": "6tr7kKH1ns3N",
        "outputId": "7cc04716-6954-4ac1-dcfd-28417fb254a8"
      },
      "source": [
        "len(mySet)"
      ],
      "execution_count": null,
      "outputs": [
        {
          "output_type": "execute_result",
          "data": {
            "text/plain": [
              "5"
            ]
          },
          "metadata": {
            "tags": []
          },
          "execution_count": 92
        }
      ]
    },
    {
      "cell_type": "code",
      "metadata": {
        "id": "FI2Bmqpons3N",
        "outputId": "ca281134-4b65-4053-c36c-3ae68c014095"
      },
      "source": [
        "False in mySet"
      ],
      "execution_count": null,
      "outputs": [
        {
          "output_type": "execute_result",
          "data": {
            "text/plain": [
              "True"
            ]
          },
          "metadata": {
            "tags": []
          },
          "execution_count": 93
        }
      ]
    },
    {
      "cell_type": "code",
      "metadata": {
        "id": "s8wwXdzpns3N",
        "outputId": "aeae480e-cd5b-4eea-f396-6647d30224e9"
      },
      "source": [
        "\"dog\" in mySet"
      ],
      "execution_count": null,
      "outputs": [
        {
          "output_type": "execute_result",
          "data": {
            "text/plain": [
              "False"
            ]
          },
          "metadata": {
            "tags": []
          },
          "execution_count": 94
        }
      ]
    },
    {
      "cell_type": "code",
      "metadata": {
        "id": "VQF4Heq6ns3N",
        "outputId": "08fcddf8-01f0-4983-b562-777d82336cfc"
      },
      "source": [
        "mySet"
      ],
      "execution_count": null,
      "outputs": [
        {
          "output_type": "execute_result",
          "data": {
            "text/plain": [
              "{3, 4.5, 6, False, 'cat'}"
            ]
          },
          "metadata": {
            "tags": []
          },
          "execution_count": 95
        }
      ]
    },
    {
      "cell_type": "code",
      "metadata": {
        "id": "BBlIgdPWns3O"
      },
      "source": [
        "yourSet = {99, 3, 100}"
      ],
      "execution_count": null,
      "outputs": []
    },
    {
      "cell_type": "code",
      "metadata": {
        "id": "zCG7dRwEns3O",
        "outputId": "40b373ce-afdd-4a77-f9a5-e46b2d03c40f"
      },
      "source": [
        "mySet.union(yourSet)"
      ],
      "execution_count": null,
      "outputs": [
        {
          "output_type": "execute_result",
          "data": {
            "text/plain": [
              "{100, 3, 4.5, 6, 99, False, 'cat'}"
            ]
          },
          "metadata": {
            "tags": []
          },
          "execution_count": 101
        }
      ]
    },
    {
      "cell_type": "code",
      "metadata": {
        "id": "EG9ulM4-ns3O",
        "outputId": "d9930f7a-461c-4d7e-f709-4c778c634006"
      },
      "source": [
        "mySet | yourSet"
      ],
      "execution_count": null,
      "outputs": [
        {
          "output_type": "execute_result",
          "data": {
            "text/plain": [
              "{100, 3, 4.5, 6, 99, False, 'cat'}"
            ]
          },
          "metadata": {
            "tags": []
          },
          "execution_count": 102
        }
      ]
    },
    {
      "cell_type": "code",
      "metadata": {
        "id": "lhknTG1Yns3P",
        "outputId": "9981f7e8-07e3-43ee-9ac2-6506421d668f"
      },
      "source": [
        "mySet.intersection(yourSet)"
      ],
      "execution_count": null,
      "outputs": [
        {
          "output_type": "execute_result",
          "data": {
            "text/plain": [
              "{3}"
            ]
          },
          "metadata": {
            "tags": []
          },
          "execution_count": 103
        }
      ]
    },
    {
      "cell_type": "code",
      "metadata": {
        "id": "40JXY02sns3P",
        "outputId": "d42f9b98-c5dc-4aa3-fa96-f696bd029770"
      },
      "source": [
        "mySet & yourSet"
      ],
      "execution_count": null,
      "outputs": [
        {
          "output_type": "execute_result",
          "data": {
            "text/plain": [
              "{3}"
            ]
          },
          "metadata": {
            "tags": []
          },
          "execution_count": 104
        }
      ]
    },
    {
      "cell_type": "code",
      "metadata": {
        "id": "lg8cb2tuns3P",
        "outputId": "195c73bc-c4b8-45c5-8aa0-2abf48b200d6"
      },
      "source": [
        "mySet.difference(yourSet)"
      ],
      "execution_count": null,
      "outputs": [
        {
          "output_type": "execute_result",
          "data": {
            "text/plain": [
              "{4.5, 6, False, 'cat'}"
            ]
          },
          "metadata": {
            "tags": []
          },
          "execution_count": 105
        }
      ]
    },
    {
      "cell_type": "code",
      "metadata": {
        "id": "_Td_9YkOns3P",
        "outputId": "6c524932-1903-41a0-84c5-689e1d934e13"
      },
      "source": [
        "mySet - yourSet"
      ],
      "execution_count": null,
      "outputs": [
        {
          "output_type": "execute_result",
          "data": {
            "text/plain": [
              "{4.5, 6, False, 'cat'}"
            ]
          },
          "metadata": {
            "tags": []
          },
          "execution_count": 106
        }
      ]
    },
    {
      "cell_type": "code",
      "metadata": {
        "id": "dhzp_-_Ens3P",
        "outputId": "613214a0-72a5-4fac-f823-12389227e376"
      },
      "source": [
        "{3, 100}.issubset(yourSet)"
      ],
      "execution_count": null,
      "outputs": [
        {
          "output_type": "execute_result",
          "data": {
            "text/plain": [
              "True"
            ]
          },
          "metadata": {
            "tags": []
          },
          "execution_count": 107
        }
      ]
    },
    {
      "cell_type": "code",
      "metadata": {
        "id": "n9f7PhKzns3Q",
        "outputId": "d8dd4f2d-ceee-427d-c930-3bab42cde644"
      },
      "source": [
        "{3, 100} <= yourSet"
      ],
      "execution_count": null,
      "outputs": [
        {
          "output_type": "execute_result",
          "data": {
            "text/plain": [
              "True"
            ]
          },
          "metadata": {
            "tags": []
          },
          "execution_count": 108
        }
      ]
    },
    {
      "cell_type": "code",
      "metadata": {
        "id": "62xWiNHPns3Q"
      },
      "source": [
        "mySet.add(\"house\")"
      ],
      "execution_count": null,
      "outputs": []
    },
    {
      "cell_type": "code",
      "metadata": {
        "id": "3KN0a_FDns3Q",
        "outputId": "fc7da31c-fe1f-4cbd-fc47-53209d55c72f"
      },
      "source": [
        "mySet"
      ],
      "execution_count": null,
      "outputs": [
        {
          "output_type": "execute_result",
          "data": {
            "text/plain": [
              "{3, 4.5, 6, False, 'cat', 'house'}"
            ]
          },
          "metadata": {
            "tags": []
          },
          "execution_count": 110
        }
      ]
    },
    {
      "cell_type": "code",
      "metadata": {
        "id": "Q6DmBOoEns3Q"
      },
      "source": [
        "mySet.remove(4.5)"
      ],
      "execution_count": null,
      "outputs": []
    },
    {
      "cell_type": "code",
      "metadata": {
        "id": "in2IKCnnns3Q",
        "outputId": "52fcb3ea-8d9d-4d80-97ba-b1010c8aa126"
      },
      "source": [
        "mySet"
      ],
      "execution_count": null,
      "outputs": [
        {
          "output_type": "execute_result",
          "data": {
            "text/plain": [
              "{3, 6, False, 'cat', 'house'}"
            ]
          },
          "metadata": {
            "tags": []
          },
          "execution_count": 112
        }
      ]
    },
    {
      "cell_type": "code",
      "metadata": {
        "id": "l1QcMkqSns3Q",
        "outputId": "fff5eca6-5bc8-4d35-f480-35c3abadd3d0"
      },
      "source": [
        "mySet.pop()"
      ],
      "execution_count": null,
      "outputs": [
        {
          "output_type": "execute_result",
          "data": {
            "text/plain": [
              "False"
            ]
          },
          "metadata": {
            "tags": []
          },
          "execution_count": 113
        }
      ]
    },
    {
      "cell_type": "code",
      "metadata": {
        "id": "3HWpkwJens3R",
        "outputId": "cb43fb2b-5652-4520-ade9-7e4bbace9c8f"
      },
      "source": [
        "mySet"
      ],
      "execution_count": null,
      "outputs": [
        {
          "output_type": "execute_result",
          "data": {
            "text/plain": [
              "{3, 6, 'cat', 'house'}"
            ]
          },
          "metadata": {
            "tags": []
          },
          "execution_count": 114
        }
      ]
    },
    {
      "cell_type": "code",
      "metadata": {
        "id": "ojDmYp-yns3R"
      },
      "source": [
        "mySet.clear()"
      ],
      "execution_count": null,
      "outputs": []
    },
    {
      "cell_type": "code",
      "metadata": {
        "id": "eDMXlgQ_ns3R",
        "outputId": "aa666b46-7e14-4fd8-c64b-687112ae695f"
      },
      "source": [
        "mySet"
      ],
      "execution_count": null,
      "outputs": [
        {
          "output_type": "execute_result",
          "data": {
            "text/plain": [
              "set()"
            ]
          },
          "metadata": {
            "tags": []
          },
          "execution_count": 116
        }
      ]
    },
    {
      "cell_type": "code",
      "metadata": {
        "id": "S4d952MOns3R"
      },
      "source": [
        "capitals = {'WA' : 'Olympia', 'CA' : 'Sacramento'}"
      ],
      "execution_count": null,
      "outputs": []
    },
    {
      "cell_type": "code",
      "metadata": {
        "id": "mV19KnZrns3R",
        "outputId": "ca302920-bcb8-4269-c0c0-3a2f18d93ec3"
      },
      "source": [
        "capitals"
      ],
      "execution_count": null,
      "outputs": [
        {
          "output_type": "execute_result",
          "data": {
            "text/plain": [
              "{'WA': 'Olympia', 'CA': 'Sacramento'}"
            ]
          },
          "metadata": {
            "tags": []
          },
          "execution_count": 118
        }
      ]
    },
    {
      "cell_type": "code",
      "metadata": {
        "id": "bn_jrJE8ns3R",
        "outputId": "59d39eb3-d9e6-402c-e2f2-87dc220c6d2f"
      },
      "source": [
        "capitals['WA']"
      ],
      "execution_count": null,
      "outputs": [
        {
          "output_type": "execute_result",
          "data": {
            "text/plain": [
              "'Olympia'"
            ]
          },
          "metadata": {
            "tags": []
          },
          "execution_count": 119
        }
      ]
    },
    {
      "cell_type": "code",
      "metadata": {
        "id": "4wjYd_Jnns3S"
      },
      "source": [
        "capitals['OR'] = 'Salem'"
      ],
      "execution_count": null,
      "outputs": []
    },
    {
      "cell_type": "code",
      "metadata": {
        "id": "rfHsm4Agns3S",
        "outputId": "2314f269-d5fe-4ac3-e253-5e4417234e37"
      },
      "source": [
        "capitals"
      ],
      "execution_count": null,
      "outputs": [
        {
          "output_type": "execute_result",
          "data": {
            "text/plain": [
              "{'WA': 'Olympia', 'CA': 'Sacramento', 'OR': 'Salem'}"
            ]
          },
          "metadata": {
            "tags": []
          },
          "execution_count": 121
        }
      ]
    },
    {
      "cell_type": "code",
      "metadata": {
        "id": "d3QJpYx3ns3S"
      },
      "source": [
        "capitals['AZ'] = 'Phoenix'"
      ],
      "execution_count": null,
      "outputs": []
    },
    {
      "cell_type": "code",
      "metadata": {
        "id": "Xlin_jHFns3S",
        "outputId": "6a4c0bd2-7f8a-4bf1-e5d3-e20c88043b06"
      },
      "source": [
        "capitals"
      ],
      "execution_count": null,
      "outputs": [
        {
          "output_type": "execute_result",
          "data": {
            "text/plain": [
              "{'WA': 'Olympia', 'CA': 'Sacramento', 'OR': 'Salem', 'AZ': 'Phoenix'}"
            ]
          },
          "metadata": {
            "tags": []
          },
          "execution_count": 123
        }
      ]
    },
    {
      "cell_type": "code",
      "metadata": {
        "id": "ljO5lNmsns3T",
        "outputId": "1733ebaa-2c72-449c-c49f-f5d536385a28"
      },
      "source": [
        "len(capitals)"
      ],
      "execution_count": null,
      "outputs": [
        {
          "output_type": "execute_result",
          "data": {
            "text/plain": [
              "4"
            ]
          },
          "metadata": {
            "tags": []
          },
          "execution_count": 124
        }
      ]
    },
    {
      "cell_type": "code",
      "metadata": {
        "id": "WLUc96Z-ns3T",
        "outputId": "0414776e-78f4-4ab8-dbdb-1c5d946b45c7"
      },
      "source": [
        "capitals.keys()"
      ],
      "execution_count": null,
      "outputs": [
        {
          "output_type": "execute_result",
          "data": {
            "text/plain": [
              "dict_keys(['WA', 'CA', 'OR', 'AZ'])"
            ]
          },
          "metadata": {
            "tags": []
          },
          "execution_count": 125
        }
      ]
    },
    {
      "cell_type": "code",
      "metadata": {
        "id": "BgOzRvKnns3T",
        "outputId": "ec69c146-1311-4fee-81ba-7a867f9ff9bf"
      },
      "source": [
        "capitals.values()"
      ],
      "execution_count": null,
      "outputs": [
        {
          "output_type": "execute_result",
          "data": {
            "text/plain": [
              "dict_values(['Olympia', 'Sacramento', 'Salem', 'Phoenix'])"
            ]
          },
          "metadata": {
            "tags": []
          },
          "execution_count": 126
        }
      ]
    },
    {
      "cell_type": "code",
      "metadata": {
        "id": "YmywQslhns3U",
        "outputId": "e0eb45ef-1f33-4ba6-be77-111fd019f109"
      },
      "source": [
        "capitals.items()"
      ],
      "execution_count": null,
      "outputs": [
        {
          "output_type": "execute_result",
          "data": {
            "text/plain": [
              "dict_items([('WA', 'Olympia'), ('CA', 'Sacramento'), ('OR', 'Salem'), ('AZ', 'Phoenix')])"
            ]
          },
          "metadata": {
            "tags": []
          },
          "execution_count": 127
        }
      ]
    },
    {
      "cell_type": "code",
      "metadata": {
        "id": "DotIOozzns3U",
        "outputId": "19fe1a71-bc7a-42ff-b66a-2a9ce52337f0"
      },
      "source": [
        "list(capitals.values())"
      ],
      "execution_count": null,
      "outputs": [
        {
          "output_type": "execute_result",
          "data": {
            "text/plain": [
              "['Olympia', 'Sacramento', 'Salem', 'Phoenix']"
            ]
          },
          "metadata": {
            "tags": []
          },
          "execution_count": 128
        }
      ]
    },
    {
      "cell_type": "code",
      "metadata": {
        "id": "o8kXJAtWns3U",
        "outputId": "5e8b694f-7c2c-4884-90a5-5b76d94f8f00"
      },
      "source": [
        "list(capitals.keys())"
      ],
      "execution_count": null,
      "outputs": [
        {
          "output_type": "execute_result",
          "data": {
            "text/plain": [
              "['WA', 'CA', 'OR', 'AZ']"
            ]
          },
          "metadata": {
            "tags": []
          },
          "execution_count": 129
        }
      ]
    },
    {
      "cell_type": "code",
      "metadata": {
        "id": "u7dY4ZLSns3U",
        "outputId": "866a4157-c125-4ef7-b346-d7922d3d8a18"
      },
      "source": [
        "list(capitals.items())"
      ],
      "execution_count": null,
      "outputs": [
        {
          "output_type": "execute_result",
          "data": {
            "text/plain": [
              "[('WA', 'Olympia'), ('CA', 'Sacramento'), ('OR', 'Salem'), ('AZ', 'Phoenix')]"
            ]
          },
          "metadata": {
            "tags": []
          },
          "execution_count": 130
        }
      ]
    },
    {
      "cell_type": "code",
      "metadata": {
        "id": "pRfBxLP1ns3U",
        "outputId": "a6663e33-fdde-418b-ae1f-670be2105cd9"
      },
      "source": [
        "capitals.get(\"WA\")"
      ],
      "execution_count": null,
      "outputs": [
        {
          "output_type": "execute_result",
          "data": {
            "text/plain": [
              "'Olympia'"
            ]
          },
          "metadata": {
            "tags": []
          },
          "execution_count": 131
        }
      ]
    },
    {
      "cell_type": "code",
      "metadata": {
        "id": "qY87CTVPns3V"
      },
      "source": [
        "capitals.get(\"IO\")"
      ],
      "execution_count": null,
      "outputs": []
    },
    {
      "cell_type": "code",
      "metadata": {
        "id": "lFjfsQnrns3V",
        "outputId": "e36b8de0-a906-443c-8ce7-8d427b9eb787"
      },
      "source": [
        "capitals.get(\"IO\",\"No entry\")"
      ],
      "execution_count": null,
      "outputs": [
        {
          "output_type": "execute_result",
          "data": {
            "text/plain": [
              "'No entry'"
            ]
          },
          "metadata": {
            "tags": []
          },
          "execution_count": 133
        }
      ]
    },
    {
      "cell_type": "code",
      "metadata": {
        "id": "mDYUKFMGns3V"
      },
      "source": [
        ""
      ],
      "execution_count": null,
      "outputs": []
    }
  ]
}