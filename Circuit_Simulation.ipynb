{
  "nbformat": 4,
  "nbformat_minor": 0,
  "metadata": {
    "colab": {
      "name": "P_DSA(2).ipynb",
      "provenance": [],
      "collapsed_sections": [],
      "authorship_tag": "ABX9TyPcU5RaMWK6JGDXi9LTNw4s",
      "include_colab_link": true
    },
    "kernelspec": {
      "name": "python3",
      "display_name": "Python 3"
    }
  },
  "cells": [
    {
      "cell_type": "markdown",
      "metadata": {
        "id": "view-in-github",
        "colab_type": "text"
      },
      "source": [
        "<a href=\"https://colab.research.google.com/github/kjlee311/pythonds/blob/master/P_DSA(2).ipynb\" target=\"_parent\"><img src=\"https://colab.research.google.com/assets/colab-badge.svg\" alt=\"Open In Colab\"/></a>"
      ]
    },
    {
      "cell_type": "code",
      "metadata": {
        "id": "-pVXWb7mN89A"
      },
      "source": [
        "class LogicGate:\r\n",
        "    def __init__(self, n):\r\n",
        "        self.label = n\r\n",
        "        self.output = None\r\n",
        "        \r\n",
        "    def getLabel(self):\r\n",
        "        return self.label\r\n",
        "    \r\n",
        "    def getOutput(self):\r\n",
        "        self.output = self.performGateLogic()\r\n",
        "        return self.output   "
      ],
      "execution_count": 1,
      "outputs": []
    },
    {
      "cell_type": "code",
      "metadata": {
        "id": "rWfNEAziOA6u"
      },
      "source": [
        "class BinaryGate(LogicGate):\r\n",
        "    def __init__(self, n):\r\n",
        "        super().__init__(n)\r\n",
        "        \r\n",
        "        self.pinA = None\r\n",
        "        self.pinB = None\r\n",
        "    \r\n",
        "    def getPinA(self):\r\n",
        "        if self.pinA == None:\r\n",
        "            return input('Enter Pin A input for gate '+ self.getLabel()+'-->')\r\n",
        "        else:\r\n",
        "            return self.pinA.getFrom().getOutput()\r\n",
        "    \r\n",
        "    def getPinB(self):\r\n",
        "        if self.pinB == None:\r\n",
        "            return input('Enter Pin B input for gate '+ self.getLabel()+'-->')\r\n",
        "        else:\r\n",
        "            return self.pinB.getFrom().getOutput()"
      ],
      "execution_count": 2,
      "outputs": []
    },
    {
      "cell_type": "code",
      "metadata": {
        "id": "hnRDFwYaOB_v"
      },
      "source": [
        "class UnaryGate(LogicGate):\r\n",
        "    def __init__(self, n):\r\n",
        "        super().__init__(n)\r\n",
        "        \r\n",
        "        self.pinA = None\r\n",
        "        \r\n",
        "    def getPinA(self):\r\n",
        "        if self.pinA == None:\r\n",
        "            return input('Enter Pin A input for gate '+ self.getLabel()+'-->')\r\n",
        "        else:\r\n",
        "            return self.pinA.getFrom().getOutput()"
      ],
      "execution_count": 3,
      "outputs": []
    },
    {
      "cell_type": "code",
      "metadata": {
        "id": "Pcm5fvnoOFun"
      },
      "source": [
        "class AndGate(BinaryGate):\r\n",
        "    def __init__(self, n):\r\n",
        "        super().__init__(n)\r\n",
        "        \r\n",
        "    def performGateLogic(self):\r\n",
        "        a = self.getPinA()\r\n",
        "        b = self.getPinB()\r\n",
        "        if a == 1 and b == 1:\r\n",
        "            return 1\r\n",
        "        else:\r\n",
        "            return 0\r\n",
        "\r\n",
        "    def setNextPin(self, source):\r\n",
        "      if self.pinA == None:\r\n",
        "          self.pinA = source\r\n",
        "      else:\r\n",
        "          if self.pinB == None:\r\n",
        "              self.pinB = source\r\n",
        "          else:\r\n",
        "              raise RuntimeError(\"Error: NO ENTRY PINS\")            "
      ],
      "execution_count": 4,
      "outputs": []
    },
    {
      "cell_type": "code",
      "metadata": {
        "id": "nUoYwX6LOGx3"
      },
      "source": [
        "class OrGate(BinaryGate):\r\n",
        "    def __init__(self, n):\r\n",
        "        super().__init__(n)\r\n",
        "        \r\n",
        "    def performGateLogic(self):\r\n",
        "        a = self.getPinA()\r\n",
        "        b = self.getPinB()\r\n",
        "        if a == 1 or b == 1:\r\n",
        "            return 1\r\n",
        "        else:\r\n",
        "            return 0   \r\n",
        "\r\n",
        "    def setNextPin(self, source):\r\n",
        "      if self.pinA == None:\r\n",
        "          self.pinA = source\r\n",
        "      else:\r\n",
        "          if self.pinB == None:\r\n",
        "              self.pinB = source\r\n",
        "          else:\r\n",
        "              raise RuntimeError(\"Error: NO ENTRY PINS\")  "
      ],
      "execution_count": 5,
      "outputs": []
    },
    {
      "cell_type": "code",
      "metadata": {
        "id": "XRxfcyf_OJS_"
      },
      "source": [
        "class NotGate(UnaryGate):\r\n",
        "    def __init__(self, n):\r\n",
        "        super().__init__(n)\r\n",
        "        \r\n",
        "    def performGateLogic(self):\r\n",
        "        a = self.getPinA()\r\n",
        "        if a == 1:\r\n",
        "            return 0\r\n",
        "        else:\r\n",
        "            return 1   \r\n",
        "\r\n",
        "    def setNextPin(self, source):\r\n",
        "      if self.pinA == None:\r\n",
        "          self.pinA = source\r\n",
        "      else:\r\n",
        "          if self.pinB == None:\r\n",
        "              self.pinB = source\r\n",
        "          else:\r\n",
        "              raise RuntimeError(\"Error: NO ENTRY PINS\")"
      ],
      "execution_count": 6,
      "outputs": []
    },
    {
      "cell_type": "code",
      "metadata": {
        "id": "rHvS7oA9ONIo"
      },
      "source": [
        "class Connector:\r\n",
        "    def __init__(self, fgate, tgate):\r\n",
        "        self.fromgate = fgate\r\n",
        "        self.togate = tgate\r\n",
        "        \r\n",
        "        tgate.setNextPin(self)\r\n",
        "        \r\n",
        "    def getFrom(self):\r\n",
        "        return self.fromgate\r\n",
        "    \r\n",
        "    def getTo(self):\r\n",
        "        return self.togate"
      ],
      "execution_count": 7,
      "outputs": []
    },
    {
      "cell_type": "code",
      "metadata": {
        "id": "myiB-Yh5OPFn"
      },
      "source": [
        "g1 = AndGate(\"G1\")"
      ],
      "execution_count": 8,
      "outputs": []
    },
    {
      "cell_type": "code",
      "metadata": {
        "id": "zQyCyKbVOQjf"
      },
      "source": [
        "g2 = AndGate(\"G2\")"
      ],
      "execution_count": 9,
      "outputs": []
    },
    {
      "cell_type": "code",
      "metadata": {
        "id": "KcRl6hN0OSIA"
      },
      "source": [
        "g3 = OrGate(\"G3\")"
      ],
      "execution_count": 10,
      "outputs": []
    },
    {
      "cell_type": "code",
      "metadata": {
        "id": "8llVSXZ8OTt_"
      },
      "source": [
        "g4 = NotGate(\"G4\")"
      ],
      "execution_count": 11,
      "outputs": []
    },
    {
      "cell_type": "code",
      "metadata": {
        "id": "9oZbzXf3OVjA"
      },
      "source": [
        "c1 = Connector(g1, g3)"
      ],
      "execution_count": 12,
      "outputs": []
    },
    {
      "cell_type": "code",
      "metadata": {
        "id": "gROI0mbNOWwZ"
      },
      "source": [
        "c2 = Connector(g2, g3)"
      ],
      "execution_count": 13,
      "outputs": []
    },
    {
      "cell_type": "code",
      "metadata": {
        "id": "XWY9CbtQOaSG"
      },
      "source": [
        "c3 = Connector(g3, g4)"
      ],
      "execution_count": 14,
      "outputs": []
    },
    {
      "cell_type": "code",
      "metadata": {
        "colab": {
          "base_uri": "https://localhost:8080/"
        },
        "id": "m6uF29fFPAlF",
        "outputId": "ddd8158d-5a89-4f67-f896-6726b5dd889a"
      },
      "source": [
        "g4.getOutput()"
      ],
      "execution_count": 15,
      "outputs": [
        {
          "output_type": "stream",
          "text": [
            "Enter Pin A input for gate G1-->0\n",
            "Enter Pin B input for gate G1-->1\n",
            "Enter Pin A input for gate G2-->1\n",
            "Enter Pin B input for gate G2-->1\n"
          ],
          "name": "stdout"
        },
        {
          "output_type": "execute_result",
          "data": {
            "text/plain": [
              "1"
            ]
          },
          "metadata": {
            "tags": []
          },
          "execution_count": 15
        }
      ]
    },
    {
      "cell_type": "code",
      "metadata": {
        "id": "ZXefviPRPns2"
      },
      "source": [
        ""
      ],
      "execution_count": 15,
      "outputs": []
    }
  ]
}
